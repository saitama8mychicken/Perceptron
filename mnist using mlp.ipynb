{
 "cells": [
  {
   "cell_type": "code",
   "execution_count": 3,
   "metadata": {
    "colab": {
     "base_uri": "https://localhost:8080/",
     "height": 1000
    },
    "colab_type": "code",
    "id": "_pYMyf_dTjEn",
    "outputId": "ab1b006d-3bde-495f-a523-c77896b07596"
   },
   "outputs": [
    {
     "name": "stdout",
     "output_type": "stream",
     "text": [
      "Extracting /tmp/data/train-images-idx3-ubyte.gz\n",
      "Extracting /tmp/data/train-labels-idx1-ubyte.gz\n",
      "Extracting /tmp/data/t10k-images-idx3-ubyte.gz\n",
      "Extracting /tmp/data/t10k-labels-idx1-ubyte.gz\n",
      "Epoch: 0001 - cost= 163.700474503 - Accuracy= 0.8656\n",
      "Epoch: 0002 - cost= 39.016888947 - Accuracy= 0.9029\n",
      "Epoch: 0003 - cost= 24.375254579 - Accuracy= 0.9146\n",
      "Epoch: 0004 - cost= 16.764213821 - Accuracy= 0.9234\n",
      "Epoch: 0005 - cost= 12.335551016 - Accuracy= 0.927\n",
      "Epoch: 0006 - cost= 9.015702676 - Accuracy= 0.9326\n",
      "Epoch: 0007 - cost= 6.664178150 - Accuracy= 0.9354\n",
      "Epoch: 0008 - cost= 4.987441774 - Accuracy= 0.9351\n",
      "Epoch: 0009 - cost= 3.667640415 - Accuracy= 0.9382\n",
      "Epoch: 0010 - cost= 2.701502774 - Accuracy= 0.9412\n",
      "Epoch: 0011 - cost= 2.042738809 - Accuracy= 0.9438\n",
      "Epoch: 0012 - cost= 1.481212360 - Accuracy= 0.9412\n",
      "Epoch: 0013 - cost= 1.172495082 - Accuracy= 0.9447\n",
      "Epoch: 0014 - cost= 0.900492724 - Accuracy= 0.9442\n",
      "Epoch: 0015 - cost= 0.773186459 - Accuracy= 0.9443\n",
      "Epoch: 0016 - cost= 0.610075228 - Accuracy= 0.945\n",
      "Epoch: 0017 - cost= 0.589388566 - Accuracy= 0.945\n",
      "Epoch: 0018 - cost= 0.500398688 - Accuracy= 0.9483\n",
      "Epoch: 0019 - cost= 0.431071993 - Accuracy= 0.949\n",
      "Epoch: 0020 - cost= 0.412675165 - Accuracy= 0.9493\n",
      "Epoch: 0021 - cost= 0.311228111 - Accuracy= 0.9521\n",
      "Epoch: 0022 - cost= 0.341739457 - Accuracy= 0.9511\n",
      "Epoch: 0023 - cost= 0.307785364 - Accuracy= 0.9536\n",
      "Epoch: 0024 - cost= 0.283307929 - Accuracy= 0.9516\n",
      "Epoch: 0025 - cost= 0.276774648 - Accuracy= 0.9523\n",
      "Epoch: 0026 - cost= 0.294905148 - Accuracy= 0.9551\n",
      "Epoch: 0027 - cost= 0.259997588 - Accuracy= 0.9549\n",
      "Epoch: 0028 - cost= 0.225307274 - Accuracy= 0.9541\n",
      "Epoch: 0029 - cost= 0.260487561 - Accuracy= 0.954\n",
      "Epoch: 0030 - cost= 0.254170398 - Accuracy= 0.9551\n",
      "Optimization Finished!\n"
     ]
    },
    {
     "data": {
      "image/png": "[encoded data removed]",
      "text/plain": [
       "<Figure size 432x288 with 1 Axes>"
      ]
     },
     "metadata": {
      "needs_background": "light"
     },
     "output_type": "display_data"
    },
    {
     "data": {
      "image/png": "[encoded data removed]",
      "text/plain": [
       "<Figure size 432x288 with 1 Axes>"
      ]
     },
     "metadata": {
      "needs_background": "light"
     },
     "output_type": "display_data"
    },
    {
     "name": "stdout",
     "output_type": "stream",
     "text": [
      "Accuracy: 0.9551\n"
     ]
    }
   ],
   "source": [
    "from __future__ import print_function\n",
    "\n",
    "# Import MNIST data\n",
    "from tensorflow.examples.tutorials.mnist import input_data\n",
    "mnist = input_data.read_data_sets(\"/tmp/data/\", one_hot=True)\n",
    "\n",
    "import tensorflow as tf\n",
    "import matplotlib.pyplot as  plt\n",
    "\n"
   ]
  },
  {
   "cell_type": "code",
   "execution_count": 4,
   "metadata": {},
   "outputs": [],
   "source": [
    "# Parameters\n",
    "learning_rate = 0.001\n",
    "training_epochs = 30\n",
    "batch_size = 100\n",
    "display_step = 1"
   ]
  },
  {
   "cell_type": "code",
   "execution_count": 5,
   "metadata": {},
   "outputs": [],
   "source": [
    "# Network Parameters\n",
    "n_hidden_1 = 256 # 1st layer number of features\n",
    "n_hidden_2 = 256 # 2nd layer number of features\n",
    "n_input = 784 # MNIST data input (img shape: 28*28)\n",
    "n_classes = 10 # MNIST total classes (0-9 digits)\n"
   ]
  },
  {
   "cell_type": "code",
   "execution_count": 6,
   "metadata": {},
   "outputs": [],
   "source": [
    "# tf Graph input\n",
    "x = tf.placeholder(\"float\", [None, n_input])\n",
    "y = tf.placeholder(\"float\", [None, n_classes])\n"
   ]
  },
  {
   "cell_type": "code",
   "execution_count": 7,
   "metadata": {},
   "outputs": [],
   "source": [
    "# Create model\n",
    "def multilayer_perceptron(x, weights, biases):\n",
    "    # Hidden layer with RELU activation\n",
    "    layer_1 = tf.add(tf.matmul(x, weights['h1']), biases['b1'])\n",
    "    layer_1 = tf.nn.relu(layer_1)\n",
    "    # Hidden layer with RELU activation\n",
    "    layer_2 = tf.add(tf.matmul(layer_1, weights['h2']), biases['b2'])\n",
    "    layer_2 = tf.nn.relu(layer_2)\n",
    "    # Output layer with linear activation\n",
    "    out_layer = tf.matmul(layer_2, weights['out']) + biases['out']\n",
    "    return out_layer"
   ]
  },
  {
   "cell_type": "code",
   "execution_count": 8,
   "metadata": {},
   "outputs": [],
   "source": [
    "# Store layers weight & bias\n",
    "weights = {\n",
    "    'h1': tf.Variable(tf.random_normal([n_input, n_hidden_1])),\n",
    "    'h2': tf.Variable(tf.random_normal([n_hidden_1, n_hidden_2])),\n",
    "    'out': tf.Variable(tf.random_normal([n_hidden_2, n_classes]))\n",
    "}\n",
    "biases = {\n",
    "    'b1': tf.Variable(tf.random_normal([n_hidden_1])),\n",
    "    'b2': tf.Variable(tf.random_normal([n_hidden_2])),\n",
    "    'out': tf.Variable(tf.random_normal([n_classes]))\n",
    "}\n"
   ]
  },
  {
   "cell_type": "code",
   "execution_count": 9,
   "metadata": {},
   "outputs": [],
   "source": [
    "# Construct model\n",
    "pred = multilayer_perceptron(x, weights, biases)"
   ]
  },
  {
   "cell_type": "code",
   "execution_count": null,
   "metadata": {},
   "outputs": [],
   "source": [
    "# Define loss and optimizer\n",
    "cost = tf.reduce_mean(tf.nn.softmax_cross_entropy_with_logits(logits=pred, labels=y))\n",
    "optimizer = tf.train.AdamOptimizer(learning_rate=learning_rate).minimize(cost)\n"
   ]
  }
 ],
 "metadata": {
  "colab": {
   "collapsed_sections": [],
   "name": "Multilayer_perceptron_using_mnist.ipynb",
   "provenance": []
  },
  "kernelspec": {
   "display_name": "Python 3",
   "language": "python",
   "name": "python3"
  },
  "language_info": {
   "codemirror_mode": {
    "name": "ipython",
    "version": 3
   },
   "file_extension": ".py",
   "mimetype": "text/x-python",
   "name": "python",
   "nbconvert_exporter": "python",
   "pygments_lexer": "ipython3",
   "version": "3.7.3"
  }
 },
 "nbformat": 4,
 "nbformat_minor": 1
}
